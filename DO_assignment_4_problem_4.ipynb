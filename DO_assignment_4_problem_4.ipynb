{
  "nbformat": 4,
  "nbformat_minor": 0,
  "metadata": {
    "colab": {
      "provenance": [],
      "collapsed_sections": [],
      "authorship_tag": "ABX9TyM0beLCrRxcJQjNbf3uoQv6"
    },
    "kernelspec": {
      "name": "python3",
      "display_name": "Python 3"
    },
    "language_info": {
      "name": "python"
    }
  },
  "cells": [
    {
      "cell_type": "code",
      "execution_count": 1,
      "metadata": {
        "id": "ETtqx4asFn37"
      },
      "outputs": [],
      "source": [
        "import numpy as np"
      ]
    },
    {
      "cell_type": "code",
      "source": [
        "def diff_calculator(alpha,x1,x2,x3):\n",
        "  t = 0.4\n",
        "  obj = objective(x1,x2,x3)   # Objective Function\n",
        "  grad = -(5*x1*x2 + 21*x1*x3 - 16*x2*x3)/(10*x2 + 2*x3)  # Reduced Gradient with x1 as decision var\n",
        "  f_alpha_grad = objective(x1-alpha*(2*x1) , x2 + alpha*(x1*(25*x1 + 4*x3)/(10*x2 + 2*x3)) , x3 + alpha*(5*x1*(5*x1 - 4*x3)/(10*x2 + 2*x3)))\n",
        "  phi = objective(x1,x2,x3) - alpha*t*(2*x1)*(2*x1)\n",
        "  return f_alpha_grad - phi"
      ],
      "metadata": {
        "id": "ybzJJxb_VEiP"
      },
      "execution_count": 2,
      "outputs": []
    },
    {
      "cell_type": "code",
      "source": [
        "def objective(x1,x2,x3):\n",
        "  return x1**2 + x2**2 + x3**2"
      ],
      "metadata": {
        "id": "OmPnGUtp5V0Q"
      },
      "execution_count": 3,
      "outputs": []
    },
    {
      "cell_type": "code",
      "source": [
        "def line_search(alpha,x1,x2,x3):\n",
        "  count = 0\n",
        "  while count<1000:\n",
        "    if diff_calculator(alpha,x1,x2,x3)>0:\n",
        "      alpha = alpha*0.5\n",
        "      count = count+1\n",
        "    else:\n",
        "      break\n",
        "  return alpha"
      ],
      "metadata": {
        "id": "g-4mP4yXVI3Q"
      },
      "execution_count": 4,
      "outputs": []
    },
    {
      "cell_type": "code",
      "source": [
        "def constraints(x1,x2,x3):\n",
        "  h1 = (x1**2)/4 + (x2**2)/5 + (x3**2)/25 - 1\n",
        "  h2 = x1 + x2 - x3\n",
        "  return ([h1],\n",
        "           [h2])"
      ],
      "metadata": {
        "id": "l3zdxpA-hVJR"
      },
      "execution_count": 5,
      "outputs": []
    },
    {
      "cell_type": "code",
      "source": [
        "x1 = 0.1\n",
        "x2 = 2.0217\n",
        "x3 = 2.1217\n",
        "# x1 = 1\n",
        "# x2 = 1\n",
        "# x3 = 1\n",
        "tol = 0.001\n",
        "epsilon = 0.001\n",
        "\n",
        "count = 0\n",
        "while (2*x1)**2 > tol and count<1000:\n",
        "  alpha = 1\n",
        "  alpha = line_search(alpha,x1,x2,x3)\n",
        "  x1 = x1 - alpha*(2*x1)\n",
        "  x2 = x2 + alpha*(x1*(25*x1 + 4*x3)/(10*x2 + 2*x3))\n",
        "  x3 = x3 + alpha*(5*x1*(5*x1 - 4*x3)/(10*x2 + 2*x3))\n",
        "  h = constraints(x1,x2,x3)\n",
        "  while np.linalg.norm(h) > epsilon:\n",
        "    s2 = x2 - h[0][0]*12.5/(5*x2+x3) - h[1][0]*x3/(5*x2+x3)\n",
        "    s3 = x3 - h[0][0]*12.5/(5*x2+x3) + h[1][0]*5*x2/(5*x2+x3)\n",
        "    x2 = s2\n",
        "    x3 = s3\n",
        "    h = constraints(x1,x2,x3)\n",
        "  count = count + 1\n",
        "  # print(count)\n",
        "print(count)\n",
        "print(f'x1:{x1} , x2:{x2} , x3:{x3}')\n",
        "print(\"Objective function value: \", objective(x1,x2,x3))"
      ],
      "metadata": {
        "colab": {
          "base_uri": "https://localhost:8080/"
        },
        "id": "m7Iqw1RbdWNP",
        "outputId": "6c4717b0-17b3-452b-f138-592855726f72"
      },
      "execution_count": 6,
      "outputs": [
        {
          "output_type": "stream",
          "name": "stdout",
          "text": [
            "1000\n",
            "x1:-0.09999999999991044 , x2:2.055022327913048 , x3:1.955022327913053\n",
            "Objective function value:  8.055229070859717\n"
          ]
        }
      ]
    }
  ]
}