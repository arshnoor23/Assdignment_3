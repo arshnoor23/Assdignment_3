{
  "nbformat": 4,
  "nbformat_minor": 0,
  "metadata": {
    "colab": {
      "provenance": [],
      "collapsed_sections": [],
      "include_colab_link": true
    },
    "kernelspec": {
      "name": "python3",
      "display_name": "Python 3"
    },
    "language_info": {
      "name": "python"
    }
  },
  "cells": [
    {
      "cell_type": "markdown",
      "metadata": {
        "id": "view-in-github",
        "colab_type": "text"
      },
      "source": [
        "<a href=\"https://colab.research.google.com/github/arshnoor23/Assdignment_3/blob/main/do_assign_3_problem_2.ipynb\" target=\"_parent\"><img src=\"https://colab.research.google.com/assets/colab-badge.svg\" alt=\"Open In Colab\"/></a>"
      ]
    },
    {
      "cell_type": "code",
      "source": [
        "!pip install bayesian-optimization"
      ],
      "metadata": {
        "colab": {
          "base_uri": "https://localhost:8080/"
        },
        "id": "FFTfX5d3YNV5",
        "outputId": "37a43b07-886e-4307-a2a9-68c5426eeb47"
      },
      "execution_count": 2,
      "outputs": [
        {
          "output_type": "stream",
          "name": "stdout",
          "text": [
            "Looking in indexes: https://pypi.org/simple, https://us-python.pkg.dev/colab-wheels/public/simple/\n",
            "Collecting bayesian-optimization\n",
            "  Downloading bayesian-optimization-1.2.0.tar.gz (14 kB)\n",
            "Requirement already satisfied: numpy>=1.9.0 in /usr/local/lib/python3.7/dist-packages (from bayesian-optimization) (1.21.6)\n",
            "Requirement already satisfied: scipy>=0.14.0 in /usr/local/lib/python3.7/dist-packages (from bayesian-optimization) (1.7.3)\n",
            "Requirement already satisfied: scikit-learn>=0.18.0 in /usr/local/lib/python3.7/dist-packages (from bayesian-optimization) (1.0.2)\n",
            "Requirement already satisfied: joblib>=0.11 in /usr/local/lib/python3.7/dist-packages (from scikit-learn>=0.18.0->bayesian-optimization) (1.2.0)\n",
            "Requirement already satisfied: threadpoolctl>=2.0.0 in /usr/local/lib/python3.7/dist-packages (from scikit-learn>=0.18.0->bayesian-optimization) (3.1.0)\n",
            "Building wheels for collected packages: bayesian-optimization\n",
            "  Building wheel for bayesian-optimization (setup.py) ... \u001b[?25l\u001b[?25hdone\n",
            "  Created wheel for bayesian-optimization: filename=bayesian_optimization-1.2.0-py3-none-any.whl size=11685 sha256=1997f83eea5fb887d9418ac17f6ded4e22bc6da9a72e715b0d770871aa134c4e\n",
            "  Stored in directory: /root/.cache/pip/wheels/fd/9b/71/f127d694e02eb40bcf18c7ae9613b88a6be4470f57a8528c5b\n",
            "Successfully built bayesian-optimization\n",
            "Installing collected packages: bayesian-optimization\n",
            "Successfully installed bayesian-optimization-1.2.0\n"
          ]
        }
      ]
    },
    {
      "cell_type": "code",
      "execution_count": 3,
      "metadata": {
        "id": "lQDFDyMAWrnn"
      },
      "outputs": [],
      "source": [
        "import numpy as np\n",
        "from bayes_opt import BayesianOptimization"
      ]
    },
    {
      "cell_type": "code",
      "source": [
        "def objective(x1,x2):\n",
        "  return -(4*x1**2 - 2.1*x1**4 + (x1**6)/3 + x1*x2 - 4*x2**2 + 4*x2**4)"
      ],
      "metadata": {
        "id": "8t3PSvo8W5gc"
      },
      "execution_count": 4,
      "outputs": []
    },
    {
      "cell_type": "code",
      "source": [
        "pbounds = {'x1':(-3,3),'x2':(-2,2)}\n",
        "optimizer = BayesianOptimization(\n",
        "    f = objective,\n",
        "    pbounds = pbounds,\n",
        "    random_state = 1,\n",
        ")"
      ],
      "metadata": {
        "id": "zEkB1thBXcYU"
      },
      "execution_count": 5,
      "outputs": []
    },
    {
      "cell_type": "code",
      "source": [
        "optimizer.maximize(\n",
        "    init_points = 10,\n",
        "    n_iter = 100\n",
        ")"
      ],
      "metadata": {
        "id": "cN18f-G_X4GO",
        "colab": {
          "base_uri": "https://localhost:8080/"
        },
        "outputId": "52908a98-156f-469f-91d6-3829c1199b33"
      },
      "execution_count": 6,
      "outputs": [
        {
          "output_type": "stream",
          "name": "stdout",
          "text": [
            "|   iter    |  target   |    x1     |    x2     |\n",
            "-------------------------------------------------\n",
            "| \u001b[0m 1       \u001b[0m | \u001b[0m 0.265   \u001b[0m | \u001b[0m-0.4979  \u001b[0m | \u001b[0m 0.8813  \u001b[0m |\n",
            "| \u001b[0m 2       \u001b[0m | \u001b[0m-110.1   \u001b[0m | \u001b[0m-2.999   \u001b[0m | \u001b[0m-0.7907  \u001b[0m |\n",
            "| \u001b[0m 3       \u001b[0m | \u001b[0m-26.91   \u001b[0m | \u001b[0m-2.119   \u001b[0m | \u001b[0m-1.631   \u001b[0m |\n",
            "| \u001b[0m 4       \u001b[0m | \u001b[0m-2.856   \u001b[0m | \u001b[0m-1.882   \u001b[0m | \u001b[0m-0.6178  \u001b[0m |\n",
            "| \u001b[0m 5       \u001b[0m | \u001b[0m-1.054   \u001b[0m | \u001b[0m-0.6194  \u001b[0m | \u001b[0m 0.1553  \u001b[0m |\n",
            "| \u001b[95m 6       \u001b[0m | \u001b[95m 0.5211  \u001b[0m | \u001b[95m-0.4848  \u001b[0m | \u001b[95m 0.7409  \u001b[0m |\n",
            "| \u001b[0m 7       \u001b[0m | \u001b[0m-11.28   \u001b[0m | \u001b[0m-1.773   \u001b[0m | \u001b[0m 1.512   \u001b[0m |\n",
            "| \u001b[0m 8       \u001b[0m | \u001b[0m-66.76   \u001b[0m | \u001b[0m-2.836   \u001b[0m | \u001b[0m 0.6819  \u001b[0m |\n",
            "| \u001b[0m 9       \u001b[0m | \u001b[0m-0.5377  \u001b[0m | \u001b[0m-0.4962  \u001b[0m | \u001b[0m 0.2348  \u001b[0m |\n",
            "| \u001b[0m 10      \u001b[0m | \u001b[0m-12.02   \u001b[0m | \u001b[0m-2.158   \u001b[0m | \u001b[0m-1.208   \u001b[0m |\n",
            "| \u001b[0m 11      \u001b[0m | \u001b[0m-6.707   \u001b[0m | \u001b[0m-0.6913  \u001b[0m | \u001b[0m-1.287   \u001b[0m |\n",
            "| \u001b[0m 12      \u001b[0m | \u001b[0m-4.507   \u001b[0m | \u001b[0m 1.223   \u001b[0m | \u001b[0m 1.081   \u001b[0m |\n",
            "| \u001b[0m 13      \u001b[0m | \u001b[0m-0.5198  \u001b[0m | \u001b[0m 1.354   \u001b[0m | \u001b[0m-0.6292  \u001b[0m |\n",
            "| \u001b[0m 14      \u001b[0m | \u001b[0m-65.32   \u001b[0m | \u001b[0m 2.812   \u001b[0m | \u001b[0m 0.1161  \u001b[0m |\n",
            "| \u001b[0m 15      \u001b[0m | \u001b[0m-48.23   \u001b[0m | \u001b[0m 1.016   \u001b[0m | \u001b[0m-2.0     \u001b[0m |\n",
            "| \u001b[0m 16      \u001b[0m | \u001b[0m-49.11   \u001b[0m | \u001b[0m 0.3388  \u001b[0m | \u001b[0m 2.0     \u001b[0m |\n",
            "| \u001b[0m 17      \u001b[0m | \u001b[0m-1.532   \u001b[0m | \u001b[0m 0.7023  \u001b[0m | \u001b[0m 0.103   \u001b[0m |\n",
            "| \u001b[0m 18      \u001b[0m | \u001b[0m-68.92   \u001b[0m | \u001b[0m 2.385   \u001b[0m | \u001b[0m 2.0     \u001b[0m |\n",
            "| \u001b[0m 19      \u001b[0m | \u001b[0m-150.9   \u001b[0m | \u001b[0m 3.0     \u001b[0m | \u001b[0m-2.0     \u001b[0m |\n",
            "| \u001b[0m 20      \u001b[0m | \u001b[0m-150.9   \u001b[0m | \u001b[0m-3.0     \u001b[0m | \u001b[0m 2.0     \u001b[0m |\n",
            "| \u001b[95m 21      \u001b[0m | \u001b[95m 0.626   \u001b[0m | \u001b[95m 0.3658  \u001b[0m | \u001b[95m-0.8456  \u001b[0m |\n",
            "| \u001b[0m 22      \u001b[0m | \u001b[0m-0.0896  \u001b[0m | \u001b[0m-1.509   \u001b[0m | \u001b[0m 0.7057  \u001b[0m |\n",
            "| \u001b[0m 23      \u001b[0m | \u001b[0m-48.22   \u001b[0m | \u001b[0m-1.022   \u001b[0m | \u001b[0m 2.0     \u001b[0m |\n",
            "| \u001b[0m 24      \u001b[0m | \u001b[0m-2.243   \u001b[0m | \u001b[0m 1.573   \u001b[0m | \u001b[0m 0.2764  \u001b[0m |\n",
            "| \u001b[0m 25      \u001b[0m | \u001b[0m-4.215   \u001b[0m | \u001b[0m-1.416   \u001b[0m | \u001b[0m-1.051   \u001b[0m |\n",
            "| \u001b[0m 26      \u001b[0m | \u001b[0m-48.84   \u001b[0m | \u001b[0m-0.2759  \u001b[0m | \u001b[0m-2.0     \u001b[0m |\n",
            "| \u001b[0m 27      \u001b[0m | \u001b[0m 0.1817  \u001b[0m | \u001b[0m-0.374   \u001b[0m | \u001b[0m-0.6042  \u001b[0m |\n",
            "| \u001b[0m 28      \u001b[0m | \u001b[0m-0.276   \u001b[0m | \u001b[0m 0.3921  \u001b[0m | \u001b[0m 0.8941  \u001b[0m |\n",
            "| \u001b[0m 29      \u001b[0m | \u001b[0m-2.63    \u001b[0m | \u001b[0m-1.208   \u001b[0m | \u001b[0m 1.144   \u001b[0m |\n",
            "| \u001b[0m 30      \u001b[0m | \u001b[0m-2.447   \u001b[0m | \u001b[0m-1.332   \u001b[0m | \u001b[0m-0.2503  \u001b[0m |\n",
            "| \u001b[0m 31      \u001b[0m | \u001b[0m-0.774   \u001b[0m | \u001b[0m 0.8767  \u001b[0m | \u001b[0m-0.508   \u001b[0m |\n",
            "| \u001b[0m 32      \u001b[0m | \u001b[0m-1.988   \u001b[0m | \u001b[0m 1.034   \u001b[0m | \u001b[0m 0.5836  \u001b[0m |\n",
            "| \u001b[0m 33      \u001b[0m | \u001b[0m 0.1815  \u001b[0m | \u001b[0m 0.1361  \u001b[0m | \u001b[0m-0.2427  \u001b[0m |\n",
            "| \u001b[0m 34      \u001b[0m | \u001b[0m-1.987   \u001b[0m | \u001b[0m 1.345   \u001b[0m | \u001b[0m-0.1736  \u001b[0m |\n",
            "| \u001b[0m 35      \u001b[0m | \u001b[0m-2.024   \u001b[0m | \u001b[0m 0.9383  \u001b[0m | \u001b[0m-1.093   \u001b[0m |\n",
            "| \u001b[0m 36      \u001b[0m | \u001b[0m 0.5136  \u001b[0m | \u001b[0m 0.1383  \u001b[0m | \u001b[0m 0.4528  \u001b[0m |\n",
            "| \u001b[0m 37      \u001b[0m | \u001b[0m-0.478   \u001b[0m | \u001b[0m-1.839   \u001b[0m | \u001b[0m 0.9853  \u001b[0m |\n",
            "| \u001b[0m 38      \u001b[0m | \u001b[0m-1.97    \u001b[0m | \u001b[0m-1.837   \u001b[0m | \u001b[0m 0.1696  \u001b[0m |\n",
            "| \u001b[0m 39      \u001b[0m | \u001b[0m-0.7324  \u001b[0m | \u001b[0m-0.1254  \u001b[0m | \u001b[0m-1.058   \u001b[0m |\n",
            "| \u001b[0m 40      \u001b[0m | \u001b[0m-2.699   \u001b[0m | \u001b[0m 1.764   \u001b[0m | \u001b[0m 0.8146  \u001b[0m |\n",
            "| \u001b[0m 41      \u001b[0m | \u001b[0m 0.4918  \u001b[0m | \u001b[0m-0.06086 \u001b[0m | \u001b[0m 0.9332  \u001b[0m |\n",
            "| \u001b[0m 42      \u001b[0m | \u001b[0m-1.628   \u001b[0m | \u001b[0m-0.869   \u001b[0m | \u001b[0m-0.7465  \u001b[0m |\n",
            "| \u001b[0m 43      \u001b[0m | \u001b[0m-0.73    \u001b[0m | \u001b[0m-0.9862  \u001b[0m | \u001b[0m 0.5863  \u001b[0m |\n",
            "| \u001b[95m 44      \u001b[0m | \u001b[95m 1.011   \u001b[0m | \u001b[95m 0.02789 \u001b[0m | \u001b[95m-0.6824  \u001b[0m |\n",
            "| \u001b[0m 45      \u001b[0m | \u001b[0m-2.237   \u001b[0m | \u001b[0m 1.43    \u001b[0m | \u001b[0m 0.6894  \u001b[0m |\n",
            "| \u001b[0m 46      \u001b[0m | \u001b[0m-1.75    \u001b[0m | \u001b[0m-1.419   \u001b[0m | \u001b[0m 0.2248  \u001b[0m |\n",
            "| \u001b[0m 47      \u001b[0m | \u001b[0m-1.557   \u001b[0m | \u001b[0m-1.56    \u001b[0m | \u001b[0m 1.114   \u001b[0m |\n",
            "| \u001b[0m 48      \u001b[0m | \u001b[0m-0.5286  \u001b[0m | \u001b[0m-1.868   \u001b[0m | \u001b[0m 0.5935  \u001b[0m |\n",
            "| \u001b[0m 49      \u001b[0m | \u001b[0m-0.2196  \u001b[0m | \u001b[0m-0.2621  \u001b[0m | \u001b[0m-0.1462  \u001b[0m |\n",
            "| \u001b[0m 50      \u001b[0m | \u001b[0m-4.007   \u001b[0m | \u001b[0m-1.796   \u001b[0m | \u001b[0m-0.9969  \u001b[0m |\n",
            "| \u001b[0m 51      \u001b[0m | \u001b[0m-0.4914  \u001b[0m | \u001b[0m 0.5473  \u001b[0m | \u001b[0m 0.5372  \u001b[0m |\n",
            "| \u001b[0m 52      \u001b[0m | \u001b[0m-0.526   \u001b[0m | \u001b[0m 1.042   \u001b[0m | \u001b[0m-0.763   \u001b[0m |\n",
            "| \u001b[0m 53      \u001b[0m | \u001b[0m-1.25    \u001b[0m | \u001b[0m 1.731   \u001b[0m | \u001b[0m-0.3005  \u001b[0m |\n",
            "| \u001b[0m 54      \u001b[0m | \u001b[0m 0.2053  \u001b[0m | \u001b[0m 0.4553  \u001b[0m | \u001b[0m-0.4877  \u001b[0m |\n",
            "| \u001b[0m 55      \u001b[0m | \u001b[0m-0.6785  \u001b[0m | \u001b[0m-0.4609  \u001b[0m | \u001b[0m-0.9229  \u001b[0m |\n",
            "| \u001b[95m 56      \u001b[0m | \u001b[95m 1.012   \u001b[0m | \u001b[95m-0.107   \u001b[0m | \u001b[95m 0.664   \u001b[0m |\n",
            "| \u001b[0m 57      \u001b[0m | \u001b[0m-2.143   \u001b[0m | \u001b[0m-1.514   \u001b[0m | \u001b[0m-0.6249  \u001b[0m |\n",
            "| \u001b[0m 58      \u001b[0m | \u001b[0m-2.442   \u001b[0m | \u001b[0m 0.4995  \u001b[0m | \u001b[0m-1.178   \u001b[0m |\n",
            "| \u001b[0m 59      \u001b[0m | \u001b[0m-0.1472  \u001b[0m | \u001b[0m 0.6909  \u001b[0m | \u001b[0m-0.8758  \u001b[0m |\n",
            "| \u001b[0m 60      \u001b[0m | \u001b[0m-0.3415  \u001b[0m | \u001b[0m 0.2988  \u001b[0m | \u001b[0m 0.07199 \u001b[0m |\n",
            "| \u001b[0m 61      \u001b[0m | \u001b[0m-0.4237  \u001b[0m | \u001b[0m-0.8351  \u001b[0m | \u001b[0m 0.8718  \u001b[0m |\n",
            "| \u001b[0m 62      \u001b[0m | \u001b[0m 0.7544  \u001b[0m | \u001b[0m 0.169   \u001b[0m | \u001b[0m 0.7387  \u001b[0m |\n",
            "| \u001b[0m 63      \u001b[0m | \u001b[0m-2.264   \u001b[0m | \u001b[0m-1.707   \u001b[0m | \u001b[0m-0.2564  \u001b[0m |\n",
            "| \u001b[0m 64      \u001b[0m | \u001b[0m-1.854   \u001b[0m | \u001b[0m 0.8001  \u001b[0m | \u001b[0m 0.8926  \u001b[0m |\n",
            "| \u001b[0m 65      \u001b[0m | \u001b[0m-1.402   \u001b[0m | \u001b[0m-0.7172  \u001b[0m | \u001b[0m-0.3252  \u001b[0m |\n",
            "| \u001b[0m 66      \u001b[0m | \u001b[0m 0.1605  \u001b[0m | \u001b[0m-0.06693 \u001b[0m | \u001b[0m 0.2073  \u001b[0m |\n",
            "| \u001b[0m 67      \u001b[0m | \u001b[0m 0.6709  \u001b[0m | \u001b[0m-0.1571  \u001b[0m | \u001b[0m-0.8132  \u001b[0m |\n",
            "| \u001b[0m 68      \u001b[0m | \u001b[0m 0.4595  \u001b[0m | \u001b[0m 0.1237  \u001b[0m | \u001b[0m-0.9413  \u001b[0m |\n",
            "| \u001b[0m 69      \u001b[0m | \u001b[0m 0.5642  \u001b[0m | \u001b[0m-0.1081  \u001b[0m | \u001b[0m-0.4566  \u001b[0m |\n",
            "| \u001b[0m 70      \u001b[0m | \u001b[0m 0.8451  \u001b[0m | \u001b[0m-0.2524  \u001b[0m | \u001b[0m 0.8183  \u001b[0m |\n",
            "| \u001b[0m 71      \u001b[0m | \u001b[0m-2.781   \u001b[0m | \u001b[0m 1.871   \u001b[0m | \u001b[0m 0.3923  \u001b[0m |\n",
            "| \u001b[0m 72      \u001b[0m | \u001b[0m 0.2056  \u001b[0m | \u001b[0m-1.73    \u001b[0m | \u001b[0m 0.8138  \u001b[0m |\n",
            "| \u001b[0m 73      \u001b[0m | \u001b[0m-0.5986  \u001b[0m | \u001b[0m-1.665   \u001b[0m | \u001b[0m 0.4653  \u001b[0m |\n",
            "| \u001b[0m 74      \u001b[0m | \u001b[0m-0.5527  \u001b[0m | \u001b[0m-1.198   \u001b[0m | \u001b[0m 0.833   \u001b[0m |\n",
            "| \u001b[0m 75      \u001b[0m | \u001b[0m 0.8273  \u001b[0m | \u001b[0m 0.2186  \u001b[0m | \u001b[0m-0.5766  \u001b[0m |\n",
            "| \u001b[0m 76      \u001b[0m | \u001b[0m 0.6037  \u001b[0m | \u001b[0m-0.2482  \u001b[0m | \u001b[0m 0.486   \u001b[0m |\n",
            "| \u001b[0m 77      \u001b[0m | \u001b[0m-0.9963  \u001b[0m | \u001b[0m 1.542   \u001b[0m | \u001b[0m-0.3916  \u001b[0m |\n",
            "| \u001b[0m 78      \u001b[0m | \u001b[0m-0.2843  \u001b[0m | \u001b[0m 1.476   \u001b[0m | \u001b[0m-0.9111  \u001b[0m |\n",
            "| \u001b[0m 79      \u001b[0m | \u001b[0m 0.104   \u001b[0m | \u001b[0m 1.705   \u001b[0m | \u001b[0m-0.69    \u001b[0m |\n",
            "| \u001b[0m 80      \u001b[0m | \u001b[0m-0.01691 \u001b[0m | \u001b[0m 1.542   \u001b[0m | \u001b[0m-0.7155  \u001b[0m |\n",
            "| \u001b[0m 81      \u001b[0m | \u001b[0m-0.6117  \u001b[0m | \u001b[0m 0.5047  \u001b[0m | \u001b[0m-0.2109  \u001b[0m |\n",
            "| \u001b[0m 82      \u001b[0m | \u001b[0m 0.9873  \u001b[0m | \u001b[0m 0.1828  \u001b[0m | \u001b[0m-0.7546  \u001b[0m |\n",
            "| \u001b[0m 83      \u001b[0m | \u001b[0m 0.9485  \u001b[0m | \u001b[0m-0.01756 \u001b[0m | \u001b[0m 0.7916  \u001b[0m |\n",
            "| \u001b[0m 84      \u001b[0m | \u001b[0m 0.7576  \u001b[0m | \u001b[0m-0.04409 \u001b[0m | \u001b[0m 0.4968  \u001b[0m |\n",
            "| \u001b[0m 85      \u001b[0m | \u001b[0m-0.1949  \u001b[0m | \u001b[0m-0.6402  \u001b[0m | \u001b[0m 0.5171  \u001b[0m |\n",
            "| \u001b[0m 86      \u001b[0m | \u001b[0m 0.9042  \u001b[0m | \u001b[0m 0.01754 \u001b[0m | \u001b[0m-0.8155  \u001b[0m |\n",
            "| \u001b[0m 87      \u001b[0m | \u001b[0m 0.6859  \u001b[0m | \u001b[0m 0.3992  \u001b[0m | \u001b[0m-0.6874  \u001b[0m |\n",
            "| \u001b[0m 88      \u001b[0m | \u001b[0m 0.9318  \u001b[0m | \u001b[0m 0.04354 \u001b[0m | \u001b[0m 0.6399  \u001b[0m |\n",
            "| \u001b[0m 89      \u001b[0m | \u001b[0m 0.7985  \u001b[0m | \u001b[0m-0.1349  \u001b[0m | \u001b[0m-0.6279  \u001b[0m |\n",
            "| \u001b[0m 90      \u001b[0m | \u001b[0m 0.8139  \u001b[0m | \u001b[0m-0.301   \u001b[0m | \u001b[0m 0.6395  \u001b[0m |\n",
            "| \u001b[0m 91      \u001b[0m | \u001b[0m 0.8073  \u001b[0m | \u001b[0m 0.06136 \u001b[0m | \u001b[0m-0.5206  \u001b[0m |\n",
            "| \u001b[0m 92      \u001b[0m | \u001b[0m 0.3604  \u001b[0m | \u001b[0m 0.3278  \u001b[0m | \u001b[0m 0.6582  \u001b[0m |\n",
            "| \u001b[0m 93      \u001b[0m | \u001b[0m 0.9952  \u001b[0m | \u001b[0m-0.138   \u001b[0m | \u001b[0m 0.7711  \u001b[0m |\n",
            "| \u001b[0m 94      \u001b[0m | \u001b[0m 1.01    \u001b[0m | \u001b[0m 0.1264  \u001b[0m | \u001b[0m-0.6686  \u001b[0m |\n",
            "| \u001b[0m 95      \u001b[0m | \u001b[0m 0.9827  \u001b[0m | \u001b[0m-0.2003  \u001b[0m | \u001b[0m 0.7002  \u001b[0m |\n",
            "| \u001b[0m 96      \u001b[0m | \u001b[0m 0.001931\u001b[0m | \u001b[0m-0.02243 \u001b[0m | \u001b[0m-0.03435 \u001b[0m |\n",
            "| \u001b[0m 97      \u001b[0m | \u001b[0m 1.009   \u001b[0m | \u001b[0m 0.09587 \u001b[0m | \u001b[0m-0.7634  \u001b[0m |\n",
            "| \u001b[0m 98      \u001b[0m | \u001b[0m 0.5333  \u001b[0m | \u001b[0m 0.1183  \u001b[0m | \u001b[0m 0.8815  \u001b[0m |\n",
            "| \u001b[95m 99      \u001b[0m | \u001b[95m 1.029   \u001b[0m | \u001b[95m-0.06794 \u001b[0m | \u001b[95m 0.7055  \u001b[0m |\n",
            "| \u001b[0m 100     \u001b[0m | \u001b[0m 0.9209  \u001b[0m | \u001b[0m 0.256   \u001b[0m | \u001b[0m-0.6897  \u001b[0m |\n",
            "| \u001b[0m 101     \u001b[0m | \u001b[0m 0.989   \u001b[0m | \u001b[0m-0.009742\u001b[0m | \u001b[0m-0.7279  \u001b[0m |\n",
            "| \u001b[0m 102     \u001b[0m | \u001b[0m 1.004   \u001b[0m | \u001b[0m-0.006234\u001b[0m | \u001b[0m 0.7094  \u001b[0m |\n",
            "| \u001b[95m 103     \u001b[0m | \u001b[95m 1.032   \u001b[0m | \u001b[95m 0.08495 \u001b[0m | \u001b[95m-0.7134  \u001b[0m |\n",
            "| \u001b[0m 104     \u001b[0m | \u001b[0m 0.9349  \u001b[0m | \u001b[0m-0.1539  \u001b[0m | \u001b[0m 0.61    \u001b[0m |\n",
            "| \u001b[0m 105     \u001b[0m | \u001b[0m 1.03    \u001b[0m | \u001b[0m-0.105   \u001b[0m | \u001b[0m 0.7231  \u001b[0m |\n",
            "| \u001b[0m 106     \u001b[0m | \u001b[0m 1.003   \u001b[0m | \u001b[0m-0.05231 \u001b[0m | \u001b[0m 0.6551  \u001b[0m |\n",
            "| \u001b[0m 107     \u001b[0m | \u001b[0m 0.9397  \u001b[0m | \u001b[0m 0.003882\u001b[0m | \u001b[0m-0.6123  \u001b[0m |\n",
            "| \u001b[0m 108     \u001b[0m | \u001b[0m 1.022   \u001b[0m | \u001b[0m 0.1393  \u001b[0m | \u001b[0m-0.7108  \u001b[0m |\n",
            "| \u001b[0m 109     \u001b[0m | \u001b[0m 1.03    \u001b[0m | \u001b[0m 0.0689  \u001b[0m | \u001b[0m-0.7117  \u001b[0m |\n",
            "| \u001b[0m 110     \u001b[0m | \u001b[0m 1.008   \u001b[0m | \u001b[0m 0.08324 \u001b[0m | \u001b[0m-0.6559  \u001b[0m |\n",
            "=================================================\n"
          ]
        }
      ]
    },
    {
      "cell_type": "code",
      "source": [
        "a = optimizer.max\n",
        "print(f\"The minima of the function is: {-a['target']} at {a['params']}\")"
      ],
      "metadata": {
        "colab": {
          "base_uri": "https://localhost:8080/"
        },
        "id": "SWvvDGZzaYfJ",
        "outputId": "d12c9abb-fff0-4ace-e9c1-9f246fc5cac6"
      },
      "execution_count": 11,
      "outputs": [
        {
          "output_type": "stream",
          "name": "stdout",
          "text": [
            "The minima of the function is: -1.0315263295837684 at {'x1': 0.084951558381297, 'x2': -0.7134360380710894}\n"
          ]
        }
      ]
    }
  ]
}