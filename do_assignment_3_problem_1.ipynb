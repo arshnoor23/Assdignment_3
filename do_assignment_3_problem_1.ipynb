{
  "nbformat": 4,
  "nbformat_minor": 0,
  "metadata": {
    "colab": {
      "provenance": [],
      "collapsed_sections": [],
      "include_colab_link": true
    },
    "kernelspec": {
      "name": "python3",
      "display_name": "Python 3"
    },
    "language_info": {
      "name": "python"
    }
  },
  "cells": [
    {
      "cell_type": "markdown",
      "metadata": {
        "id": "view-in-github",
        "colab_type": "text"
      },
      "source": [
        "<a href=\"https://colab.research.google.com/github/arshnoor23/Assdignment_3/blob/main/do_assignment_3_problem_1.ipynb\" target=\"_parent\"><img src=\"https://colab.research.google.com/assets/colab-badge.svg\" alt=\"Open In Colab\"/></a>"
      ]
    },
    {
      "cell_type": "code",
      "source": [
        "import numpy as np\n",
        "import torch\n",
        "from torch.autograd import Variable"
      ],
      "metadata": {
        "id": "mPF4V5SiUh1E"
      },
      "execution_count": 103,
      "outputs": []
    },
    {
      "cell_type": "code",
      "source": [
        "# Defining global variables that will be used\n",
        "global x1,x2,p1,p2,p_given\n",
        "x1 = np.linspace(0.0,1,11)\n",
        "x2 = 1-x1\n",
        "x1 = torch.tensor(x1,requires_grad=False)\n",
        "x2 = torch.tensor(x2,requires_grad=False)\n",
        "# Saturation Pressure Equations Given\n",
        "p1 = 10**(8.07131 - 1730.630/(20+233.426))\n",
        "p2 = 10**(7.43155 - 1554.679/(20+240.337))\n",
        "# Given Data\n",
        "p_given = np.array([28.1, 34.4, 36.7, 36.9, 36.8, 36.7, 36.5, 35.4, 32.9, 27.7,17.5])\n",
        "p_given = torch.tensor(p_given,requires_grad=False)"
      ],
      "metadata": {
        "id": "VCBDRxSRUp_L"
      },
      "execution_count": 104,
      "outputs": []
    },
    {
      "cell_type": "code",
      "source": [
        "# Initializing A\n",
        "A = Variable(torch.tensor([1.0,1.0]),requires_grad=True)"
      ],
      "metadata": {
        "id": "-0hjnnpLWIIP"
      },
      "execution_count": 105,
      "outputs": []
    },
    {
      "cell_type": "code",
      "source": [
        "# Given Function for estimating pressure\n",
        "p = lambda A: x1 * torch.exp(A[0] * (A[1] * x2 / (A[0] * x1 + A[1] * x2)) ** 2) * p1 + x2 * torch.exp(A[1] * (A[0] * x1 / (A[0] * x1 + A[1] * x2)) ** 2) * p2\n",
        "# Least Square Error\n",
        "def objective_function(p,p_given):\n",
        "  return ((p-p_given)**2).sum()"
      ],
      "metadata": {
        "id": "XNHlR8srWTrk"
      },
      "execution_count": 106,
      "outputs": []
    },
    {
      "cell_type": "code",
      "source": [
        "# Gradient Descent Algorithm\n",
        "iter = 0\n",
        "max = 1000\n",
        "err = 1000\n",
        "alpha = 0.00001\n",
        "tol = 1e-06\n",
        "grad_norm=1\n",
        "while err >= tol:\n",
        "  P = p(A)\n",
        "  err = objective_function(P,p_given)\n",
        "  err.backward()\n",
        "  with torch.no_grad():\n",
        "    A -= alpha * A.grad\n",
        "    A.grad.zero_() \n",
        "  iter += 1   \n",
        "  if iter>=max:\n",
        "    break\n",
        "  "
      ],
      "metadata": {
        "id": "2S2kgnyZW-VM"
      },
      "execution_count": 107,
      "outputs": []
    },
    {
      "cell_type": "code",
      "source": [
        "print(\"The optimal values of A12 and A21 using gradient descent:\",A)"
      ],
      "metadata": {
        "colab": {
          "base_uri": "https://localhost:8080/"
        },
        "id": "y1sdl_WXZxB-",
        "outputId": "e3d0ce59-86db-45b3-aeea-753cb0c6cf6f"
      },
      "execution_count": 108,
      "outputs": [
        {
          "output_type": "stream",
          "name": "stdout",
          "text": [
            "The optimal values of A12 and A21 using gradient descent: tensor([1.9103, 1.7298], requires_grad=True)\n"
          ]
        }
      ]
    },
    {
      "cell_type": "code",
      "source": [
        "# Comparison between estimated and measured values\n",
        "import matplotlib.pyplot as plt\n",
        "x1 = np.linspace(0,1,100)\n",
        "x2 = 1-x1\n",
        "x1 = torch.tensor(x1,requires_grad=False)\n",
        "x2 = torch.tensor(x2,requires_grad=False)\n",
        "p_estimates = p(A)\n",
        "\n",
        "x1_given = np.linspace(0,1,11)\n",
        "x2_given = 1-x1\n",
        "plt.plot(x1,p_estimates.detach().numpy(),'k--')\n",
        "plt.plot(x1_given,p_given,'bx-')\n",
        "plt.legend(['Estimated Values','Given Values'])\n",
        "plt.title(\"Comparision\")\n",
        "plt.xlabel('x1')\n",
        "plt.ylabel('Pressure Values')\n",
        "plt.show()\n"
      ],
      "metadata": {
        "colab": {
          "base_uri": "https://localhost:8080/",
          "height": 295
        },
        "id": "nUpWgazKgKR4",
        "outputId": "fef720f9-2589-492a-a2d9-c9b89ae7f689"
      },
      "execution_count": 109,
      "outputs": [
        {
          "output_type": "display_data",
          "data": {
            "text/plain": [
              "<Figure size 432x288 with 1 Axes>"
            ],
            "image/png": "[encoded data removed]"
          },
          "metadata": {
            "needs_background": "light"
          }
        }
      ]
    }
  ]
}